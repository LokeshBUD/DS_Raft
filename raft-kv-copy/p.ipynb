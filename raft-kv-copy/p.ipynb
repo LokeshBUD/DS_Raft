{
 "cells": [
  {
   "cell_type": "code",
   "execution_count": 1,
   "metadata": {},
   "outputs": [
    {
     "name": "stdout",
     "output_type": "stream",
     "text": [
      "Graphs saved as latency_plot.png, throughput_plot.png, and recovery_plot.png\n"
     ]
    }
   ],
   "source": [
    "import matplotlib.pyplot as plt\n",
    "import csv\n",
    "from datetime import datetime\n",
    "\n",
    "def plot_latency():\n",
    "    timestamps, latencies = [], []\n",
    "    with open('latency.csv', 'r') as f:\n",
    "        reader = csv.reader(f)\n",
    "        next(reader)  # Skip header\n",
    "        for row in reader:\n",
    "            ts, lat = int(row[0]), float(row[1])\n",
    "            timestamps.append(ts)\n",
    "            latencies.append(lat)\n",
    "    \n",
    "    # Convert timestamps to relative time (seconds from start)\n",
    "    start_time = timestamps[0]\n",
    "    times = [(ts - start_time) / 1000.0 for ts in timestamps]\n",
    "    \n",
    "    plt.figure(figsize=(10, 6))\n",
    "    plt.plot(times, latencies, 'b-', label='Latency (ms)')\n",
    "    plt.xlabel('Time (s)')\n",
    "    plt.ylabel('Latency (ms)')\n",
    "    plt.title('Latency Over Time')\n",
    "    plt.legend()\n",
    "    plt.grid(True)\n",
    "    plt.savefig('latency_plot.png')\n",
    "    plt.close()\n",
    "\n",
    "def plot_throughput():\n",
    "    timestamps, throughputs = [], []\n",
    "    with open('throughput.csv', 'r') as f:\n",
    "        reader = csv.reader(f)\n",
    "        next(reader)  # Skip header\n",
    "        for row in reader:\n",
    "            ts, tp = int(row[0]), int(row[1])\n",
    "            timestamps.append(ts)\n",
    "            throughputs.append(tp)\n",
    "    \n",
    "    start_time = timestamps[0]\n",
    "    times = [(ts - start_time) / 1000.0 for ts in timestamps]\n",
    "    \n",
    "    plt.figure(figsize=(10, 6))\n",
    "    plt.plot(times, throughputs, 'r-', label='Throughput (ops/s)')\n",
    "    plt.xlabel('Time (s)')\n",
    "    plt.ylabel('Throughput (ops/s)')\n",
    "    plt.title('Throughput Over Time')\n",
    "    plt.legend()\n",
    "    plt.grid(True)\n",
    "    plt.savefig('throughput_plot.png')\n",
    "    plt.close()\n",
    "\n",
    "def plot_recovery():\n",
    "    timestamps, recoveries = [], []\n",
    "    with open('recovery.csv', 'r') as f:\n",
    "        reader = csv.reader(f)\n",
    "        next(reader)  # Skip header\n",
    "        for row in reader:\n",
    "            ts, rec = int(row[0]), int(row[1])\n",
    "            timestamps.append(ts)\n",
    "            recoveries.append(rec)\n",
    "    \n",
    "    start_time = timestamps[0]\n",
    "    times = [(ts - start_time) / 1000.0 for ts in timestamps]\n",
    "    \n",
    "    plt.figure(figsize=(10, 6))\n",
    "    plt.plot(times, recoveries, 'g-', marker='o', label='Recovery Time (ms)')\n",
    "    plt.xlabel('Time (s)')\n",
    "    plt.ylabel('Recovery Time (ms)')\n",
    "    plt.title('Recovery Time After Failures')\n",
    "    plt.legend()\n",
    "    plt.grid(True)\n",
    "    plt.savefig('recovery_plot.png')\n",
    "    plt.close()\n",
    "\n",
    "if __name__ == \"__main__\":\n",
    "    plot_latency()\n",
    "    plot_throughput()\n",
    "    plot_recovery()\n",
    "    print(\"Graphs saved as latency_plot.png, throughput_plot.png, and recovery_plot.png\")"
   ]
  },
  {
   "cell_type": "code",
   "execution_count": null,
   "metadata": {},
   "outputs": [],
   "source": []
  }
 ],
 "metadata": {
  "kernelspec": {
   "display_name": "base",
   "language": "python",
   "name": "python3"
  },
  "language_info": {
   "codemirror_mode": {
    "name": "ipython",
    "version": 3
   },
   "file_extension": ".py",
   "mimetype": "text/x-python",
   "name": "python",
   "nbconvert_exporter": "python",
   "pygments_lexer": "ipython3",
   "version": "3.12.7"
  }
 },
 "nbformat": 4,
 "nbformat_minor": 2
}
